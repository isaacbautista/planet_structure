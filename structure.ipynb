{
 "cells": [
  {
   "cell_type": "markdown",
   "metadata": {},
   "source": [
    "# Solid Planet Structure Modeling\n"
   ]
  },
  {
   "cell_type": "markdown",
   "metadata": {},
   "source": [
    "### Assumptions\n",
    "\n",
    "\n",
    "Planets are perfectly spherical.\n",
    "\n",
    "Pressure and density only depend on distance to the center of the planet."
   ]
  },
  {
   "cell_type": "markdown",
   "metadata": {},
   "source": [
    "### Hydrostatic Equilibrium\n",
    "\n",
    "The relationship between pressure and gravity can be described with the following differential equation:\n",
    "\n",
    "$\\frac{dP(r)}{dr} = - \\frac{G\\rho(r)m(r)}{r^{2}}$ \n",
    "\n",
    "$G$ = gravitational constant\n",
    "\n",
    "$r$ = distance from planet center\n",
    "\n",
    "$\\rho(r)$ = density\n",
    "\n",
    "$m(r)$ = mass of planet interior\n",
    "\n",
    "$m(r)$ can also be described in terms of density with the following equation:\n",
    "\n",
    "$\\frac{dm(r)}{dr} = 4\\pi\\rho(r)r^{2}$"
   ]
  },
  {
   "cell_type": "markdown",
   "metadata": {},
   "source": [
    "### Density and Pressure Relation\n",
    "\n",
    "https://iopscience.iop.org/article/10.1086/521346/pdf\n",
    "\n",
    "The above paper by Seager et al describes an equation of state for solid planets of the form:\n",
    "\n",
    "$\\rho(P) = \\rho_{0} + cP^{n}$\n",
    "\n"
   ]
  },
  {
   "cell_type": "markdown",
   "metadata": {},
   "source": [
    "### Numerical Methods\n",
    "\n",
    "We'll use the above differential equations to build pressure, density, and mass profiles for solid planets.\n",
    "\n",
    "To solve the differential equations, we'll use a 4th order Runga-Kutta method:\n",
    "\n",
    "$\\frac{dy}{dx} =  f(x,y)$\n",
    "\n",
    "$y(0) = y_{0}$\n",
    "\n",
    "$y_{i+1} = y_{i} + \\frac{1}{6}h(k_{1} + 2k_{2} + 2k_{3} + k_{4})$\n",
    "\n",
    "where:\n",
    "\n",
    "$k_{1} = f(x_{i}, y_{i})$\n",
    "\n",
    "$k_{2} = f(x_{i} + \\frac{1}{2}h, y_{i} + \\frac{1}{2}k_{1}h)$\n",
    "\n",
    "$k_{3} = f(x_{i} + \\frac{1}{2}h, y_{i} + \\frac{1}{2}k_{2}h)$\n",
    "\n",
    "$k_{3} = f(x_{i} + h, y_{i} + k_{3}h)$\n",
    "\n",
    "$h$ = delta step"
   ]
  },
  {
   "cell_type": "code",
   "execution_count": null,
   "metadata": {},
   "outputs": [],
   "source": [
    "def rk4(f, x, y, h):\n",
    "    k1 = f(x, y)\n",
    "    k2 = f(x + h/2, y + k1*h/2)\n",
    "    k3 = f(x + h/2, y + k2*h/2)\n",
    "    k4 = f(x + h, y + k3*h)\n",
    "    \n",
    "    return y + h*(k1 + 2*k2 + 2*k3 + k4)\n",
    "    "
   ]
  }
 ],
 "metadata": {
  "kernelspec": {
   "display_name": "Python 3",
   "language": "python",
   "name": "python3"
  },
  "language_info": {
   "codemirror_mode": {
    "name": "ipython",
    "version": 3
   },
   "file_extension": ".py",
   "mimetype": "text/x-python",
   "name": "python",
   "nbconvert_exporter": "python",
   "pygments_lexer": "ipython3",
   "version": "3.6.7"
  }
 },
 "nbformat": 4,
 "nbformat_minor": 2
}
