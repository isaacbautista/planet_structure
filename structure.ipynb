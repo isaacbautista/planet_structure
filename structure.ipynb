{
 "cells": [
  {
   "cell_type": "markdown",
   "metadata": {},
   "source": [
    "# Solid Planet Structure Modeling\n"
   ]
  },
  {
   "cell_type": "markdown",
   "metadata": {},
   "source": [
    "### Assumptions\n",
    "\n",
    "\n",
    "Planets are perfectly spherical.\n",
    "\n",
    "Pressure and density only depend on distance to the center of the planet.\n",
    "\n",
    "In this project, we'll use SI units."
   ]
  },
  {
   "cell_type": "markdown",
   "metadata": {},
   "source": [
    "### Hydrostatic Equilibrium\n",
    "\n",
    "The relationship between pressure and gravity can be described with the following differential equation:\n",
    "\n",
    "$\\frac{dP(r)}{dr} = - \\frac{G\\rho(r)m(r)}{r^{2}}$ \n",
    "\n",
    "$G$ = gravitational constant\n",
    "\n",
    "$r$ = distance from planet center\n",
    "\n",
    "$\\rho(r)$ = density\n",
    "\n",
    "$m(r)$ = mass of planet interior\n",
    "\n",
    "$m(r)$ can also be described in terms of density with the following equation:\n",
    "\n",
    "$\\frac{dm(r)}{dr} = 4\\pi\\rho(r)r^{2}$"
   ]
  },
  {
   "cell_type": "markdown",
   "metadata": {},
   "source": [
    "### Density and Pressure Relation\n",
    "\n",
    "https://iopscience.iop.org/article/10.1086/521346/pdf\n",
    "\n",
    "The above paper by Seager et al describes an equation of state for solid planets of the form:\n",
    "\n",
    "$\\rho(P) = \\rho_{0} + cP^{n}$\n",
    "\n"
   ]
  },
  {
   "cell_type": "markdown",
   "metadata": {},
   "source": [
    "### Numerical Methods\n",
    "\n",
    "We'll use the above differential equations to build pressure, density, and mass profiles for solid planets.\n",
    "\n",
    "To solve the differential equations, we'll use a 4th order Runga-Kutta method:\n",
    "\n",
    "$\\frac{dy}{dx} =  f(x,y)$\n",
    "\n",
    "$y(0) = y_{0}$\n",
    "\n",
    "$y_{i+1} = y_{i} + \\frac{1}{6}h(k_{1} + 2k_{2} + 2k_{3} + k_{4})$\n",
    "\n",
    "where:\n",
    "\n",
    "$k_{1} = f(x_{i}, y_{i})$\n",
    "\n",
    "$k_{2} = f(x_{i} + \\frac{1}{2}h, y_{i} + \\frac{1}{2}k_{1}h)$\n",
    "\n",
    "$k_{3} = f(x_{i} + \\frac{1}{2}h, y_{i} + \\frac{1}{2}k_{2}h)$\n",
    "\n",
    "$k_{3} = f(x_{i} + h, y_{i} + k_{3}h)$\n",
    "\n",
    "$h$ = delta step"
   ]
  },
  {
   "cell_type": "code",
   "execution_count": 6,
   "metadata": {},
   "outputs": [],
   "source": [
    "# imports and constants\n",
    "\n",
    "import numpy as np\n",
    "\n",
    "G = 6.67e-11 # [m^3][kg^-1][s^-2]\n",
    "r_Earth = 6.356e6 # [m]"
   ]
  },
  {
   "cell_type": "code",
   "execution_count": 7,
   "metadata": {},
   "outputs": [],
   "source": [
    "# define rk4\n",
    "\n",
    "def rk4(f, x, y, h, *argv):\n",
    "    k1 = f(x, y, *argv)\n",
    "    k2 = f(x + h/2, y + k1*h/2, *argv)\n",
    "    k3 = f(x + h/2, y + k2*h/2, *argv)\n",
    "    k4 = f(x + h, y + k3*h, *argv)\n",
    "    \n",
    "    return y + h*(k1 + 2*k2 + 2*k3 + k4)/6"
   ]
  },
  {
   "cell_type": "code",
   "execution_count": 8,
   "metadata": {},
   "outputs": [],
   "source": [
    "# define equations\n",
    "\n",
    "def dPdr(r, P, *argv):\n",
    "    mass = argv[0]\n",
    "    density = argv[1]\n",
    "    return -G*mass*density/(r**2)\n",
    "\n",
    "def dmdr(r, m, *argv):\n",
    "    density = argv[0]\n",
    "    return 4*np.pi*density*(r**2)\n",
    "\n",
    "def density(P, rho0, c, n):\n",
    "    return rho0 + c*(P**n)"
   ]
  },
  {
   "cell_type": "markdown",
   "metadata": {},
   "source": [
    "### Test RK4\n",
    "\n",
    "Test function:\n",
    "\n",
    "$\\frac{dy}{dx} = 2x$\n",
    "\n",
    "The solution should be:\n",
    "\n",
    "$y = x^{2}$"
   ]
  },
  {
   "cell_type": "code",
   "execution_count": 9,
   "metadata": {},
   "outputs": [],
   "source": [
    "def f(x, *y):\n",
    "    return 2*x"
   ]
  },
  {
   "cell_type": "code",
   "execution_count": 10,
   "metadata": {},
   "outputs": [
    {
     "name": "stdout",
     "output_type": "stream",
     "text": [
      "[0, 1, 2, 3, 4, 5, 6, 7, 8, 9]\n",
      "[0, 1.0, 4.0, 9.0, 16.0, 25.0, 36.0, 49.0, 64.0, 81.0]\n"
     ]
    }
   ],
   "source": [
    "x = [0]\n",
    "y = [0]\n",
    "\n",
    "for i in range(1, 10):\n",
    "    y_temp = rk4(f, x[-1], y[-1], 1)\n",
    "    y.append(y_temp)\n",
    "    x.append(i)\n",
    "    \n",
    "print(x)\n",
    "print(y)"
   ]
  },
  {
   "cell_type": "markdown",
   "metadata": {},
   "source": [
    "Results check out."
   ]
  },
  {
   "cell_type": "markdown",
   "metadata": {},
   "source": [
    "### Demonstration\n",
    "\n",
    "Using values from the Seager, et al paper for iron (Fe)"
   ]
  },
  {
   "cell_type": "code",
   "execution_count": 12,
   "metadata": {},
   "outputs": [],
   "source": [
    "# define step size to increase radius\n",
    "h = 1e-5*r_Earth # [m]\n",
    "\n",
    "# start at some small radius\n",
    "radii = [h] # [m]\n",
    "\n",
    "# constants for this example\n",
    "c = 0.00349 # [kg][m^-3][Pa^-n]\n",
    "n = 0.528 # dimensionless\n",
    "rho0 = 8300 # [kg][m^-3]\n",
    "\n",
    "# mass at our small initial radius\n",
    "masses = [(4/3)*np.pi*(radii[-1]**3)] # [kg]\n",
    "\n",
    "# pressure at center\n",
    "pressures = [10e12] # [Pa]\n",
    "\n",
    "# density at center\n",
    "densities = [density(pressures[-1], rho0, c, n)] # [kg][m^-3]"
   ]
  },
  {
   "cell_type": "code",
   "execution_count": 13,
   "metadata": {},
   "outputs": [],
   "source": [
    "# loop while the pressure stays positive\n",
    "# we reach the edge of the planet when P = 0\n",
    "\n",
    "while pressures[-1] > 0:\n",
    "    # update masses\n",
    "    m_temp = rk4(dmdr, radii[-1], masses[-1], h, densities[-1])\n",
    "    masses.append(m_temp)\n",
    "    \n",
    "    # update pressures\n",
    "    P_temp = rk4(dPdr, radii[-1], pressures[-1], h, masses[-1], densities[-1])\n",
    "    pressures.append(P_temp)\n",
    "    \n",
    "    # update densities\n",
    "    rho_temp = density(pressures[-1], rho0, c, n)\n",
    "    densities.append(rho_temp)\n",
    "    \n",
    "    # update radii\n",
    "    radii.append(radii[-1]+h)"
   ]
  },
  {
   "cell_type": "code",
   "execution_count": null,
   "metadata": {},
   "outputs": [],
   "source": []
  },
  {
   "cell_type": "code",
   "execution_count": null,
   "metadata": {},
   "outputs": [],
   "source": []
  }
 ],
 "metadata": {
  "kernelspec": {
   "display_name": "Python 3",
   "language": "python",
   "name": "python3"
  },
  "language_info": {
   "codemirror_mode": {
    "name": "ipython",
    "version": 3
   },
   "file_extension": ".py",
   "mimetype": "text/x-python",
   "name": "python",
   "nbconvert_exporter": "python",
   "pygments_lexer": "ipython3",
   "version": "3.6.7"
  }
 },
 "nbformat": 4,
 "nbformat_minor": 2
}
