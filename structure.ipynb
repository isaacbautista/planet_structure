{
 "cells": [
  {
   "cell_type": "markdown",
   "metadata": {},
   "source": [
    "# Solid Planet Structure Modeling\n"
   ]
  },
  {
   "cell_type": "markdown",
   "metadata": {},
   "source": [
    "### Assumptions\n",
    "\n",
    "\n",
    "Planets are perfectly spherical.\n",
    "\n",
    "Pressure and density only depend on distance to the center of the planet."
   ]
  },
  {
   "cell_type": "markdown",
   "metadata": {},
   "source": [
    "### Hydrostatic Equilibrium\n",
    "\n",
    "The relationship between pressure and gravity can be described with the following differential equation:\n",
    "\n",
    "$\\frac{dP(r)}{dr} = - \\frac{G\\rho(r)m(r)}{r^{2}}$ \n",
    "\n",
    "$G$ = gravitational constant\n",
    "\n",
    "$r$ = distance from planet center\n",
    "\n",
    "$\\rho(r)$ = density\n",
    "\n",
    "$m(r)$ = mass of planet interior\n",
    "\n",
    "$m(r)$ can also be described in terms of density with the following equation:\n",
    "\n",
    "$\\frac{dm(r)}{dr} = 4\\pi\\rho(r)r^{2}$"
   ]
  },
  {
   "cell_type": "markdown",
   "metadata": {},
   "source": [
    "### Density and Pressure Relation\n",
    "\n",
    "https://iopscience.iop.org/article/10.1086/521346/pdf\n",
    "\n",
    "The above paper by Seager et al describes an equation of state for solid planets of the form:\n",
    "\n",
    "$\\rho(P) = \\rho_{0} + cP^{n}$\n",
    "\n"
   ]
  },
  {
   "cell_type": "code",
   "execution_count": null,
   "metadata": {},
   "outputs": [],
   "source": []
  }
 ],
 "metadata": {
  "kernelspec": {
   "display_name": "Python 3",
   "language": "python",
   "name": "python3"
  },
  "language_info": {
   "codemirror_mode": {
    "name": "ipython",
    "version": 3
   },
   "file_extension": ".py",
   "mimetype": "text/x-python",
   "name": "python",
   "nbconvert_exporter": "python",
   "pygments_lexer": "ipython3",
   "version": "3.6.7"
  }
 },
 "nbformat": 4,
 "nbformat_minor": 2
}
